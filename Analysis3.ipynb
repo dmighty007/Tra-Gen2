{
 "cells": [
  {
   "cell_type": "code",
   "execution_count": 1,
   "metadata": {},
   "outputs": [
    {
     "name": "stderr",
     "output_type": "stream",
     "text": [
      "/home/dm/miniconda3/envs/ice_ae/lib/python3.11/site-packages/MDAnalysis/topology/TPRParser.py:161: DeprecationWarning: 'xdrlib' is deprecated and slated for removal in Python 3.13\n",
      "  import xdrlib\n",
      "/home/dm/miniconda3/envs/ice_ae/lib/python3.11/site-packages/MDAnalysis/analysis/data/filenames.py:110: DeprecationWarning: pkg_resources is deprecated as an API. See https://setuptools.pypa.io/en/latest/pkg_resources.html\n",
      "  from pkg_resources import resource_filename\n"
     ]
    },
    {
     "name": "stdout",
     "output_type": "stream",
     "text": [
      "__Secure-1PSID value should end with a single dot. Enter correct __Secure-1PSID value.\n"
     ]
    }
   ],
   "source": [
    "from scripts import Analysis, Decision, Plots\n",
    "import subprocess\n",
    "## Bard as LLM\n",
    "import os\n",
    "import requests\n",
    "from bardapi.constants import SESSION_HEADERS\n",
    "from bardapi import Bard\n",
    "\n",
    "token = \"g.a000gAjl7UgbfiwQeipmuDl3L5hWIpVrgNYv4uImLhBVCFADJ0i1NXUnSOvbamut_3LxhIgW8wACgYKAUUSAQASFQHGX2MiE3fzDYKMmJPOoLpjrGSUIxoVAUF8yKqCrfbBLjh19mu2iiaqHJC_0076\"\n",
    "\n",
    "session = requests.Session()\n",
    "session.headers = SESSION_HEADERS\n",
    "session.cookies.set(\"__Secure-1PSID\", token)\n",
    "#session.cookies.set(\"__Secure-1PSIDTS\", \"<VALUE>\")\n",
    "session.cookies.set(\"__Secure-1PSIDCC\", \"ABTWhQHfyr09QRhjV-LI650p4kdTKVi5gbUsy8aTmnoV7XvABYtTssiMaJNwEmoExs8Zfg6m\")\n",
    "\n",
    "\n",
    "bard = Bard(token=token, session=session)"
   ]
  },
  {
   "cell_type": "code",
   "execution_count": 2,
   "metadata": {},
   "outputs": [],
   "source": [
    "top = \"./Data/top.gro\"\n",
    "traj = \"./Data/run_0.xtc\""
   ]
  },
  {
   "cell_type": "code",
   "execution_count": 3,
   "metadata": {},
   "outputs": [],
   "source": [
    "# For one trajectory..\n",
    "ana = Analysis(traj, top = top)\n",
    "# RMSD analysis..\n",
    "rmsd = ana.RMSD()\n",
    "# ROG analysis..\n",
    "rog = ana.ROG()\n",
    "# SASA analysis..\n",
    "sasa = ana.SASA()\n",
    "############### Decesion based on the above data..\n",
    "decision = Decision()\n",
    "message_str = \"\"\n",
    "message_str += decision.number_of_transitions_from_rmsd(rmsd)\n",
    "message_str += decision.decideROG(ana.time, rog)\n",
    "message_str += decision.decideSASA(ana.time, sasa)"
   ]
  },
  {
   "cell_type": "code",
   "execution_count": 4,
   "metadata": {},
   "outputs": [],
   "source": [
    "############# Bard to assemble and rewrite things in nice way\n",
    "prompt = \"Following is MD simulation trajectory analysis result. Make thoughtful report of the below statements. write some thing that is copiable, and please don't write any thing in first person mode:\"\n",
    "\n",
    "result = bard.get_answer(prompt + message_str)\n",
    "bard_output = (result['content'])\n",
    "splitted_out = bard_output.split(\"\\n\")\n",
    "refined_text = \"\"\n",
    "for line in splitted_out:\n",
    "    if \"**Note\" not in line:\n",
    "        refined_text += line + \"\\n\"\n"
   ]
  },
  {
   "cell_type": "code",
   "execution_count": 7,
   "metadata": {},
   "outputs": [],
   "source": [
    "######## Plotting part\n",
    "out = \"./Out/\"\n",
    "plots = Plots(out = out)\n",
    "plots.plotROG(ana.time, rog)\n",
    "plots.plotRMSD(ana.time, rmsd)\n",
    "plots.plotSASA(ana.time, sasa)"
   ]
  },
  {
   "cell_type": "code",
   "execution_count": 8,
   "metadata": {},
   "outputs": [],
   "source": [
    "pymol_script =f\"\"\"load {top}\n",
    "load_traj {traj}\n",
    "hide everything \n",
    "show cartoon\n",
    "show cell\n",
    "set cgo_line_width, 2\n",
    "set_view (\\\n",
    "     1.000000000,    0.000000000,    0.000000000,\\\n",
    "     0.000000000,    1.000000000,    0.000000000,\\\n",
    "     0.000000000,    0.000000000,    1.000000000,\\\n",
    "     0.000000000,    0.000000000, -149.570785522,\\\n",
    "    24.722297668,   24.784605026,   25.375907898,\\\n",
    "   111.117927551,  188.023696899,   20.000000000 )\n",
    "beautify\n",
    "ray \n",
    "png {out}init\n",
    "frame {int(len(ana.time))}\n",
    "ray \n",
    "png {out}final\n",
    "quit\"\"\"\n",
    "with open(\"generate_init_final.pml\", \"w\") as f:\n",
    "    f.write(pymol_script)\n",
    "\n",
    "popen = subprocess.Popen(['/home/dm/Soft/pymol/pymol', 'generate_init_final.pml', '-cq'], stdout=subprocess.PIPE)\n"
   ]
  },
  {
   "cell_type": "code",
   "execution_count": 9,
   "metadata": {},
   "outputs": [],
   "source": [
    "from md2pdf.core import md2pdf"
   ]
  },
  {
   "cell_type": "code",
   "execution_count": 14,
   "metadata": {},
   "outputs": [],
   "source": [
    "md2pdf(f\"{out}test.pdf\",md_content = refined_text)"
   ]
  },
  {
   "cell_type": "code",
   "execution_count": 37,
   "metadata": {},
   "outputs": [],
   "source": [
    "class printColor:\n",
    "   PURPLE = '\\033[95m'\n",
    "   CYAN = '\\033[96m'\n",
    "   DARKCYAN = '\\033[36m'\n",
    "   BLUE = '\\033[94m'\n",
    "   GREEN = '\\033[92m'\n",
    "   YELLOW = '\\033[93m'\n",
    "   RED = '\\033[91m'\n",
    "   BOLD = '\\033[1m'\n",
    "   UNDERLINE = '\\033[4m'\n",
    "   END = '\\033[0m'"
   ]
  },
  {
   "cell_type": "code",
   "execution_count": 45,
   "metadata": {},
   "outputs": [],
   "source": [
    "pc = printColor()\n",
    "def welcome():                                                                                \n",
    "    base_str =   printColor.BLUE + printColor.BOLD + f\"\"\"\n",
    "{printColor.RED + printColor.BOLD}ooooooooooooo                              .oooooo.{printColor.END}                          \n",
    "{printColor.GREEN + printColor.BOLD}8'   888   `8                             d8P'  `Y8b{printColor.END}                         \n",
    "     {printColor.YELLOW + printColor.BOLD}888      oooo d8b  .oooo.           888            .ooooo.  ooo. .oo.{printColor.END}   \n",
    "     888      `888\"\"8P `P  )88b          888           d88' `88b `888P\"Y88b  \n",
    "     888       888      .oP\"888  8888888 888     ooooo 888ooo888  888   888  \n",
    "     888       888     d8(  888          `88.    .88'  888    .o  888   888  \n",
    "    o888o     d888b    `Y888\"\"8o          `Y8bood8P'   `Y8bod8P' o888o o888o \n",
    "                                                                                                                                        \n",
    "                                                                             \n",
    "\"\"\"+printColor.END\n",
    "    base_str += f\"\\t\\t... a tiny {printColor.BLUE + printColor.BOLD }AI{printColor.END} assitant who helps you analyze your {printColor.GREEN + printColor.BOLD }MD simulated trajectory.{printColor.END}\"\n",
    "    return base_str"
   ]
  },
  {
   "cell_type": "code",
   "execution_count": 46,
   "metadata": {},
   "outputs": [
    {
     "name": "stdout",
     "output_type": "stream",
     "text": [
      "\u001b[94m\u001b[1m\n",
      "\u001b[91m\u001b[1mooooooooooooo                              .oooooo.\u001b[0m                          \n",
      "\u001b[92m\u001b[1m8'   888   `8                             d8P'  `Y8b\u001b[0m                         \n",
      "     \u001b[93m\u001b[1m888      oooo d8b  .oooo.           888            .ooooo.  ooo. .oo.\u001b[0m   \n",
      "     888      `888\"\"8P `P  )88b          888           d88' `88b `888P\"Y88b  \n",
      "     888       888      .oP\"888  8888888 888     ooooo 888ooo888  888   888  \n",
      "     888       888     d8(  888          `88.    .88'  888    .o  888   888  \n",
      "    o888o     d888b    `Y888\"\"8o          `Y8bood8P'   `Y8bod8P' o888o o888o \n",
      "                                                                                                                                        \n",
      "                                                                             \n",
      "\u001b[0m\t\t... a tiny \u001b[94m\u001b[1mAI\u001b[0m assitant who helps you analyze your \u001b[92m\u001b[1mMD simulated trajectory.\u001b[0m\n"
     ]
    }
   ],
   "source": [
    "message = welcome()\n",
    "print(message)"
   ]
  },
  {
   "cell_type": "code",
   "execution_count": null,
   "metadata": {},
   "outputs": [],
   "source": []
  }
 ],
 "metadata": {
  "kernelspec": {
   "display_name": "ice_ae",
   "language": "python",
   "name": "python3"
  },
  "language_info": {
   "codemirror_mode": {
    "name": "ipython",
    "version": 3
   },
   "file_extension": ".py",
   "mimetype": "text/x-python",
   "name": "python",
   "nbconvert_exporter": "python",
   "pygments_lexer": "ipython3",
   "version": "3.11.7"
  }
 },
 "nbformat": 4,
 "nbformat_minor": 2
}
